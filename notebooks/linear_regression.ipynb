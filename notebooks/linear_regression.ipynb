# Import libraries
import pandas as pd
import numpy as np
import matplotlib.pyplot as plt
from sklearn.model_selection import train_test_split
from sklearn.linear_model import LinearRegression
from sklearn.metrics import mean_absolute_error, mean_squared_error, r2_score

# Load dataset (replace with your dataset)
url = "https://raw.githubusercontent.com/ShubhangGandhi/AI-ML-Internship-Task3/main/data/house_price.csv"
df = pd.read_csv(url)

# Preprocess data
df = df.dropna()  # Handle missing values
X = df[['sqft_living']]  # Feature (simple regression)
y = df['price']  # Target

# Split data
X_train, X_test, y_train, y_test = train_test_split(X, y, test_size=0.2, random_state=42)

# Train model
model = LinearRegression()
model.fit(X_train, y_train)

# Predictions
y_pred = model.predict(X_test)

# Evaluate
mae = mean_absolute_error(y_test, y_pred)
mse = mean_squared_error(y_test, y_pred)
r2 = r2_score(y_test, y_pred)

print(f"MAE: {mae:.2f}, MSE: {mse:.2f}, R²: {r2:.2f}")

# Plot regression line
plt.scatter(X_test, y_test, color='blue', label='Actual')
plt.plot(X_test, y_pred, color='red', linewidth=2, label='Predicted')
plt.xlabel('Square Feet')
plt.ylabel('Price')
plt.title('Linear Regression: Price vs Sqft')
plt.legend()
plt.show()
